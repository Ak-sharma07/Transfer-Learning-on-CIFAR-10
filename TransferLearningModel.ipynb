{
  "nbformat": 4,
  "nbformat_minor": 0,
  "metadata": {
    "colab": {
      "provenance": [],
      "gpuType": "V28"
    },
    "kernelspec": {
      "name": "python3",
      "display_name": "Python 3"
    },
    "language_info": {
      "name": "python"
    },
    "accelerator": "TPU"
  },
  "cells": [
    {
      "cell_type": "code",
      "source": [
        "from google.colab import drive\n",
        "drive.mount('/content/drive')"
      ],
      "metadata": {
        "colab": {
          "base_uri": "https://localhost:8080/"
        },
        "id": "jloB8zP90B_d",
        "outputId": "c9a17b64-ec91-4a1d-82bb-77bf9e88774c"
      },
      "execution_count": 1,
      "outputs": [
        {
          "output_type": "stream",
          "name": "stdout",
          "text": [
            "Mounted at /content/drive\n"
          ]
        }
      ]
    },
    {
      "cell_type": "code",
      "execution_count": 3,
      "metadata": {
        "colab": {
          "base_uri": "https://localhost:8080/"
        },
        "id": "5JJPKuhfduu0",
        "outputId": "99e4e284-50e2-45a2-ea6d-300d2c611a32"
      },
      "outputs": [
        {
          "output_type": "stream",
          "name": "stdout",
          "text": [
            "1/1 [==============================] - 1s 1s/step\n",
            "Downloading data from https://storage.googleapis.com/download.tensorflow.org/data/imagenet_class_index.json\n",
            "35363/35363 [==============================] - 0s 0us/step\n",
            "Predicted: [('n02791270', 'barbershop', 0.49492624), ('n04591157', 'Windsor_tie', 0.17758378), ('n02883205', 'bow_tie', 0.09248895)]\n"
          ]
        }
      ],
      "source": [
        "import keras\n",
        "from keras.applications.resnet50 import ResNet50\n",
        "from keras.applications.resnet50 import preprocess_input, decode_predictions\n",
        "import numpy as np\n",
        "\n",
        "model = ResNet50(weights='imagenet')\n",
        "\n",
        "img_path = '/content/drive/MyDrive/IMG_20230918_081440_475.jpg'\n",
        "img = keras.utils.load_img(img_path, target_size=(224, 224))\n",
        "x = keras.utils.img_to_array(img)\n",
        "x = np.expand_dims(x, axis=0)\n",
        "x = preprocess_input(x)\n",
        "\n",
        "preds = model.predict(x)\n",
        "\n",
        "print('Predicted:', decode_predictions(preds, top=3)[0])\n",
        "\n",
        "\n",
        "\n",
        "\n"
      ]
    },
    {
      "cell_type": "code",
      "source": [
        "import tensorflow as tf\n",
        "from tensorflow.keras.preprocessing import image\n",
        "from tensorflow.keras.applications.inception_v3 import InceptionV3, preprocess_input, decode_predictions #Fixed typo here\n",
        "from tensorflow.keras.models import Model\n",
        "from tensorflow.keras.layers import Dense, GlobalAveragePooling2D\n",
        "from tensorflow.keras.optimizers import Adam\n",
        "import numpy as np\n",
        "\n",
        "# Load full InceptionV3 model (with top layer)\n",
        "inception_full_model = InceptionV3(weights='imagenet', include_top=True) #Fixed typo here\n",
        "\n",
        "# Load InceptionV3 without the top layer (for transfer learning)\n",
        "base_model = InceptionV3(weights='imagenet', include_top=False)\n",
        "\n",
        "# Add a global spatial average pooling layer for transfer learning\n",
        "x = base_model.output\n",
        "x = GlobalAveragePooling2D()(x)\n",
        "\n",
        "# Add a fully-connected layer\n",
        "x = Dense(1024, activation='relu')(x)\n",
        "\n",
        "# Add a logistic layer (assuming 10 classes for CIFAR-10)\n",
        "predictions = Dense(10, activation='softmax')(x)\n",
        "\n",
        "# This is the model to train\n",
        "model = Model(inputs=base_model.input, outputs=predictions)\n",
        "\n",
        "# Load CIFAR-10 dataset\n",
        "(x_train, y_train), (x_test, y_test) = tf.keras.datasets.cifar10.load_data()\n",
        "\n",
        "# Resize CIFAR-10 images to 299x299 (InceptionV3 input size)\n",
        "def resize_images(images):\n",
        "    resized_images = tf.image.resize(images, (299, 299))\n",
        "    return resized_images\n",
        "\n",
        "x_train = resize_images(x_train)\n",
        "x_test = resize_images(x_test)\n",
        "\n",
        "# Normalize the data to values between -1 and 1 (InceptionV3 preprocesses images this way)\n",
        "x_train = preprocess_input(x_train)\n",
        "x_test = preprocess_input(x_test)\n",
        "\n",
        "# Convert labels to one-hot encoding\n",
        "y_train = tf.keras.utils.to_categorical(y_train, 10)\n",
        "y_test = tf.keras.utils.to_categorical(y_test, 10)\n",
        "\n",
        "# Convert arrays to TensorFlow datasets\n",
        "train_dataset = tf.data.Dataset.from_tensor_slices((x_train, y_train)).batch(32).shuffle(10000)\n",
        "val_dataset = tf.data.Dataset.from_tensor_slices((x_test, y_test)).batch(32)\n",
        "\n",
        "# First predict without any transfer learning (using full InceptionV3)\n",
        "def predict_without_transfer(image_path):\n",
        "    img = image.load_img(image_path, target_size=(299, 299))\n",
        "    x = image.img_to_array(img)\n",
        "    x = np.expand_dims(x, axis=0)\n",
        "    x = preprocess_input(x)\n",
        "\n",
        "    # Predict using the full InceptionV3 model (pre-trained)\n",
        "    preds = inception_full_model.predict(x)\n",
        "    print('Predictions without transfer learning:')\n",
        "    print(decode_predictions(preds, top=3)[0])  # Top 3 predictions\n",
        "\n",
        "# Apply transfer learning\n",
        "def apply_transfer_learning(epochs=2, batch_size=32):\n",
        "    # Freeze all layers in the base model (InceptionV3 without top)\n",
        "    for layer in base_model.layers:\n",
        "        layer.trainable = False\n",
        "\n",
        "    # Compile the model (after freezing)\n",
        "    model.compile(optimizer=Adam(learning_rate=0.0001), loss='categorical_crossentropy', metrics=['accuracy'])\n",
        "\n",
        "    # Train the top layers of the model (the newly added layers)\n",
        "    model.fit(\n",
        "        train_dataset,\n",
        "        epochs=epochs,  # Set fewer epochs here\n",
        "        validation_data=val_dataset\n",
        "    )\n",
        "\n",
        "    # Unfreeze some top layers and fine-tune\n",
        "    for layer in base_model.layers[-20:]:\n",
        "        layer.trainable = True\n",
        "\n",
        "    # Recompile the model with a low learning rate\n",
        "    model.compile(optimizer=Adam(learning_rate=0.000), loss='categorical_crossentropy', metrics=['accuracy'])\n",
        "\n",
        "    # Continue training with a lower learning rate\n",
        "    model.fit(\n",
        "        train_dataset,\n",
        "        epochs=epochs,  # Set fewer epochs here\n",
        "        validation_data=val_dataset\n",
        "    )\n",
        "\n"
      ],
      "metadata": {
        "id": "3CNBgBZqp8fm",
        "colab": {
          "base_uri": "https://localhost:8080/"
        },
        "outputId": "b5526fa0-8cf0-4cfd-cf2e-39428c2ebd65"
      },
      "execution_count": 8,
      "outputs": [
        {
          "output_type": "stream",
          "name": "stdout",
          "text": [
            "Downloading data from https://storage.googleapis.com/tensorflow/keras-applications/inception_v3/inception_v3_weights_tf_dim_ordering_tf_kernels.h5\n",
            "96112376/96112376 [==============================] - 0s 0us/step\n",
            "Downloading data from https://storage.googleapis.com/tensorflow/keras-applications/inception_v3/inception_v3_weights_tf_dim_ordering_tf_kernels_notop.h5\n",
            "87910968/87910968 [==============================] - 0s 0us/step\n",
            "Downloading data from https://www.cs.toronto.edu/~kriz/cifar-10-python.tar.gz\n",
            "170498071/170498071 [==============================] - 2s 0us/step\n"
          ]
        }
      ]
    },
    {
      "cell_type": "code",
      "source": [
        "\n",
        "from tensorflow.keras.preprocessing import image\n",
        "import numpy as np\n",
        "\n",
        "def predict_with_transfer(image_path):\n",
        "  img = image.load_img(image_path, target_size=(299, 299))\n",
        "  x = image.img_to_array(img)\n",
        "  x = np.expand_dims(x, axis=0)\n",
        "  x = preprocess_input(x)\n",
        "\n",
        "  preds = model.predict(x)\n",
        "  predicted_class = np.argmax(preds[0])\n",
        "\n",
        "  cifar10_labels = ['airplane', 'automobile', 'bird', 'cat', 'deer', 'dog', 'frog', 'horse', 'ship', 'handsome man']\n",
        "  predicted_label = cifar10_labels[predicted_class]\n",
        "\n",
        "  print('Predictions with transfer learning:')\n",
        "  print(f'Predicted class: {predicted_label}')\n",
        "\n",
        "# Path to the image for prediction (with transfer learning)\n",
        "image_path = '/content/drive/MyDrive/IMG_20230918_081440_475.jpg'\n",
        "\n",
        "# Predict with transfer learning and print the CIFAR-10 label\n",
        "predict_with_transfer(image_path)\n"
      ],
      "metadata": {
        "id": "BA4FBt-wNmLN",
        "colab": {
          "base_uri": "https://localhost:8080/"
        },
        "outputId": "a8bcee0e-4180-4556-dca6-ed34ac112521"
      },
      "execution_count": 11,
      "outputs": [
        {
          "output_type": "stream",
          "name": "stdout",
          "text": [
            "1/1 [==============================] - 0s 77ms/step\n",
            "Predictions with transfer learning:\n",
            "Predicted class: handsome man\n"
          ]
        }
      ]
    }
  ]
}